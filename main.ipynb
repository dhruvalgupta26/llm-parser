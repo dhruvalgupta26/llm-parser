{
 "cells": [
  {
   "cell_type": "code",
   "execution_count": 19,
   "metadata": {},
   "outputs": [],
   "source": [
    "from langchain_community.document_loaders import PyPDFLoader\n",
    "from langchain_text_splitters import RecursiveCharacterTextSplitter\n",
    "from langchain_huggingface.embeddings import HuggingFaceEmbeddings\n",
    "from langchain_community.vectorstores import FAISS\n",
    "from langchain_groq import ChatGroq\n",
    "from langchain_core.prompts import ChatPromptTemplate\n",
    "from langchain.chains.combine_documents import create_stuff_documents_chain\n",
    "from langchain.chains.retrieval import create_retrieval_chain\n",
    "from langchain_core.output_parsers import StrOutputParser\n",
    "import os\n",
    "import csv\n",
    "from dotenv import load_dotenv"
   ]
  },
  {
   "cell_type": "code",
   "execution_count": 3,
   "metadata": {},
   "outputs": [],
   "source": [
    "# load the pdf\n",
    "loader = PyPDFLoader(\"documents/PERSONAL LOAN APPLICATION FORM.pdf\")\n",
    "document = loader.load()"
   ]
  },
  {
   "cell_type": "code",
   "execution_count": 4,
   "metadata": {},
   "outputs": [],
   "source": [
    "# split text\n",
    "splitter = RecursiveCharacterTextSplitter(chunk_size=300 , chunk_overlap=20)\n",
    "splits = splitter.split_documents(document)"
   ]
  },
  {
   "cell_type": "code",
   "execution_count": 5,
   "metadata": {},
   "outputs": [
    {
     "name": "stderr",
     "output_type": "stream",
     "text": [
      "/home/innobit/Desktop/work/llmParser/venv/lib/python3.10/site-packages/sentence_transformers/cross_encoder/CrossEncoder.py:11: TqdmWarning: IProgress not found. Please update jupyter and ipywidgets. See https://ipywidgets.readthedocs.io/en/stable/user_install.html\n",
      "  from tqdm.autonotebook import tqdm, trange\n",
      "/home/innobit/Desktop/work/llmParser/venv/lib/python3.10/site-packages/transformers/tokenization_utils_base.py:1601: FutureWarning: `clean_up_tokenization_spaces` was not set. It will be set to `True` by default. This behavior will be depracted in transformers v4.45, and will be then set to `False` by default. For more details check this issue: https://github.com/huggingface/transformers/issues/31884\n",
      "  warnings.warn(\n"
     ]
    }
   ],
   "source": [
    "# load embedding model\n",
    "embeddings = HuggingFaceEmbeddings(model_name=\"all-MiniLM-L6-v2\")\n",
    "encode_kwargs = {'normalize_embeddings': True}"
   ]
  },
  {
   "cell_type": "code",
   "execution_count": 6,
   "metadata": {},
   "outputs": [],
   "source": [
    "# create a vector store\n",
    "vectorstore = FAISS.from_documents(splits, embeddings)\n",
    "\n",
    "# save the vectorstore locally\n",
    "vectorstore.save_local('vectorstore.db')"
   ]
  },
  {
   "cell_type": "code",
   "execution_count": 7,
   "metadata": {},
   "outputs": [],
   "source": [
    "# create a retreiver\n",
    "retriever = vectorstore.as_retriever()"
   ]
  },
  {
   "cell_type": "code",
   "execution_count": 10,
   "metadata": {},
   "outputs": [],
   "source": [
    "# load the llm model\n",
    "groq_api_key = os.getenv('groq_api_key')\n",
    "llm = ChatGroq(model='Gemma2-9b-It', groq_api_key=groq_api_key)"
   ]
  },
  {
   "cell_type": "code",
   "execution_count": 14,
   "metadata": {},
   "outputs": [],
   "source": [
    "# create prompt\n",
    "prompt = ChatPromptTemplate.from_template('''\n",
    "You are tasked with extracting key information related to loan applications from documents for automated loan processing. The document contains data in various formats, and your goal is to locate and extract the following fields accurately:\n",
    "\n",
    "Loan ID\n",
    "Number of Dependents\n",
    "Education\n",
    "Gender\n",
    "Marital Status\n",
    "Self-Employed (Yes/No)\n",
    "Annual Income\n",
    "Loan Amount\n",
    "Loan Term (in months)\n",
    "CIBIL Score\n",
    "Residential Assets\n",
    "Commercial Assets\n",
    "Luxury Assets\n",
    "Bank Assets\n",
    "                        \n",
    "<context>\n",
    "{context}\n",
    "</context>\n",
    "\n",
    "Question: {input}               \n",
    "''')"
   ]
  },
  {
   "cell_type": "code",
   "execution_count": 21,
   "metadata": {},
   "outputs": [],
   "source": [
    "# create a chain\n",
    "output_parser = StrOutputParser()\n",
    "doc_chain = create_stuff_documents_chain(llm, prompt)\n",
    "retrieval_chain = create_retrieval_chain(retriever,doc_chain)"
   ]
  },
  {
   "cell_type": "code",
   "execution_count": 23,
   "metadata": {},
   "outputs": [
    {
     "data": {
      "text/plain": [
       "\"Unfortunately, the provided text snippet does not contain any information related to the loan application fields you listed (Loan ID, Number of Dependents, Education, Gender, Marital Status, Self-Employed, Annual Income, Loan Amount, Loan Term, CIBIL Score, Residential Assets, Commercial Assets, Luxury Assets, Bank Assets). \\n\\nThe text seems to be part of a document related to identification or registration, mentioning GSTIN, Driving License No., and Passport No.  \\n\\nTo extract the loan application fields, you would need the actual content of the loan application document. \\n\\n\\nLet me know if you have the complete loan application document, and I'll do my best to help you extract the required information. \\n\""
      ]
     },
     "execution_count": 23,
     "metadata": {},
     "output_type": "execute_result"
    }
   ],
   "source": [
    "response = retrieval_chain.invoke({\"input\":\"Extract the relevant fields for loan processing\"})\n",
    "answer = output_parser.parse(response['answer'])\n",
    "answer"
   ]
  },
  {
   "cell_type": "code",
   "execution_count": null,
   "metadata": {},
   "outputs": [],
   "source": [
    "\n",
    "def save_to_csv(data, filename='loan_data.csv'):\n",
    "    with open(filename, 'w', newline='') as csvfile:\n",
    "        fieldnames = data.keys()\n",
    "        writer = csv.DictWriter(csvfile, fieldnames=fieldnames)\n",
    "        \n",
    "        writer.writeheader()\n",
    "        writer.writerow(data)\n",
    "\n",
    "def process_loan_document(document_text):\n",
    "    extracted_data = extract_loan_data(document_text)\n",
    "    save_to_csv(extracted_data)\n",
    "    print(f\"Data has been extracted and saved to loan_data.csv\")\n",
    "    "
   ]
  }
 ],
 "metadata": {
  "kernelspec": {
   "display_name": "venv",
   "language": "python",
   "name": "python3"
  },
  "language_info": {
   "codemirror_mode": {
    "name": "ipython",
    "version": 3
   },
   "file_extension": ".py",
   "mimetype": "text/x-python",
   "name": "python",
   "nbconvert_exporter": "python",
   "pygments_lexer": "ipython3",
   "version": "3.10.12"
  }
 },
 "nbformat": 4,
 "nbformat_minor": 2
}
